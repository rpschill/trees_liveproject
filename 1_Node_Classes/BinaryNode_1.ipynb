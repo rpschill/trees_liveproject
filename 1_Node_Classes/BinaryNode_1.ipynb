{
 "cells": [
  {
   "cell_type": "code",
   "execution_count": 39,
   "id": "f80547ea",
   "metadata": {},
   "outputs": [
    {
     "name": "stdout",
     "output_type": "stream",
     "text": [
      "Root: A B\n",
      "A: C D\n",
      "B: None E\n",
      "C: None None\n",
      "D: None None\n",
      "E: F None\n",
      "F: None None\n"
     ]
    }
   ],
   "source": [
    "class BinaryNode:\n",
    "    def __init__(self, value):\n",
    "        self.value = value\n",
    "        self.left_child = None\n",
    "        self.right_child = None\n",
    "    \n",
    "    \n",
    "    def add_left(self, value):\n",
    "        self.left_child = value\n",
    "        \n",
    "    \n",
    "    def add_right(self, value):\n",
    "        self.right_child = value\n",
    "    \n",
    "    \n",
    "    def __str__(self):\n",
    "        result = f'{self.value}:'\n",
    "        \n",
    "        if (self.left_child == None):\n",
    "            result += ' None'\n",
    "        else:\n",
    "            result += f' {self.left_child.value}'\n",
    "        \n",
    "        if (self.right_child == None):\n",
    "            result += ' None'\n",
    "        else:\n",
    "            result += f' {self.right_child.value}'\n",
    "        \n",
    "        return result\n",
    "\n",
    "\n",
    "root = BinaryNode('Root')\n",
    "a = BinaryNode('A')\n",
    "b = BinaryNode('B')\n",
    "\n",
    "root.add_left(a)\n",
    "root.add_right(b)\n",
    "\n",
    "c = BinaryNode('C')\n",
    "d = BinaryNode('D')\n",
    "e = BinaryNode('E')\n",
    "f = BinaryNode('F')\n",
    "\n",
    "a.add_left(c)\n",
    "a.add_right(d)\n",
    "\n",
    "b.add_right(e)\n",
    "\n",
    "e.add_left(f)\n",
    "\n",
    "print(root)\n",
    "print(a)\n",
    "print(b)\n",
    "print(c)\n",
    "print(d)\n",
    "print(e)\n",
    "print(f)\n",
    "\n",
    "        "
   ]
  },
  {
   "cell_type": "code",
   "execution_count": null,
   "id": "3050653d",
   "metadata": {},
   "outputs": [],
   "source": []
  }
 ],
 "metadata": {
  "kernelspec": {
   "display_name": "Python 3 (ipykernel)",
   "language": "python",
   "name": "python3"
  },
  "language_info": {
   "codemirror_mode": {
    "name": "ipython",
    "version": 3
   },
   "file_extension": ".py",
   "mimetype": "text/x-python",
   "name": "python",
   "nbconvert_exporter": "python",
   "pygments_lexer": "ipython3",
   "version": "3.10.0"
  }
 },
 "nbformat": 4,
 "nbformat_minor": 5
}
